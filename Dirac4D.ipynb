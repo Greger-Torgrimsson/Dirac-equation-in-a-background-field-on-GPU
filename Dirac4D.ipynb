{
  "nbformat": 4,
  "nbformat_minor": 0,
  "metadata": {
    "colab": {
      "provenance": [],
      "gpuType": "T4"
    },
    "kernelspec": {
      "name": "python3",
      "display_name": "Python 3"
    },
    "language_info": {
      "name": "python"
    },
    "accelerator": "GPU"
  },
  "cells": [
    {
      "cell_type": "code",
      "source": [
        "%%capture output\n",
        "%pip install diffrax"
      ],
      "metadata": {
        "id": "Ff6vTDO-SfLU"
      },
      "execution_count": 1,
      "outputs": []
    },
    {
      "cell_type": "code",
      "execution_count": 2,
      "metadata": {
        "id": "xJGCfh1XZP9L"
      },
      "outputs": [],
      "source": [
        "import jax.numpy as np\n",
        "from diffrax import diffeqsolve, ODETerm, Dopri5, SaveAt, PIDController\n",
        "import matplotlib.pyplot as plt\n",
        "from scipy.integrate import simpson\n",
        "from scipy.interpolate import make_interp_spline\n",
        "from tqdm import tqdm"
      ]
    },
    {
      "cell_type": "markdown",
      "source": [
        "# Definitions"
      ],
      "metadata": {
        "id": "tLuM7wlKR7kR"
      }
    },
    {
      "cell_type": "code",
      "source": [
        "g0=np.array([[0,0,1,0],[0,0,0,1],[1,0,0,0],[0,1,0,0]])\n",
        "g1=np.array([[0,0,0,1],[0,0,1,0],[0,-1,0,0],[-1,0,0,0]])\n",
        "g2=np.array([[0,0,0,-1j],[0,0,1j,0],[0,1j,0,0],[-1j,0,0,0]])\n",
        "g3=np.array([[0,0,1,0],[0,0,0,-1],[-1,0,0,0],[0,1,0,0]])\n",
        "id=np.array([[1,0,0,0],[0,1,0,0],[0,0,1,0],[0,0,0,1]])\n",
        "\n",
        "g=[g0,g1,g2,g3]\n",
        "eta=np.array([[1,0,0,0],[0,-1,0,0],[0,0,-1,0],[0,0,0,-1]])\n",
        "\n",
        "a1=g0@g1\n",
        "a2=g0@g2\n",
        "a3=g0@g3"
      ],
      "metadata": {
        "id": "rxgFHYBKa2dk"
      },
      "execution_count": 3,
      "outputs": []
    },
    {
      "cell_type": "code",
      "source": [
        "R1=np.array([0,1,0,0])\n",
        "R2=np.array([0,0,1,0])\n",
        "\n",
        "def u4D(P1,P2,P3,spin):\n",
        "  P0=np.sqrt(1+P1*P1+P2*P2+P3*P3)\n",
        "  if spin==1:\n",
        "    R=R1\n",
        "  elif spin==2:\n",
        "    R=R2\n",
        "  return (P0*g0+P1*g1+P2*g2+P3*g3+id)@R/np.sqrt(2*P0*(P0+P3))\n",
        "\n",
        "def v4D(P1,P2,P3,spin):\n",
        "  P0=np.sqrt(1+P1*P1+P2*P2+P3*P3)\n",
        "  if spin==1:\n",
        "    R=R1\n",
        "  elif spin==2:\n",
        "    R=R2\n",
        "  return (-P0*g0-P1*g1-P2*g2-P3*g3+id)@R/np.sqrt(2*P0*(P0+P3))"
      ],
      "metadata": {
        "id": "IXveU89_bWT1"
      },
      "execution_count": 4,
      "outputs": []
    },
    {
      "cell_type": "code",
      "source": [
        "p1=-.35; p2=0; p3=0; p0=np.sqrt(1+p1*p1+p2*p2+p3*p3)\n",
        "pp1=-p1; pp2=0; pp3=0; pp0=np.sqrt(1+pp1*pp1+pp2*pp2+pp3*pp3)"
      ],
      "metadata": {
        "id": "8AqUjoPCoNhg"
      },
      "execution_count": 5,
      "outputs": []
    },
    {
      "cell_type": "code",
      "source": [
        "gamma=1\n",
        "E0=1/3\n",
        "omega=gamma*E0\n",
        "kappa=gamma*E0\n",
        "\n",
        "zb=22\n",
        "nz=201\n",
        "nk=401\n",
        "\n",
        "tin=-10\n",
        "tout=10\n",
        "\n",
        "chop=1e-7\n",
        "\n",
        "def A0(t,x,y,z):\n",
        "  return (E0/kappa)*np.exp(-(omega*t)**2-kappa*kappa*(x*x+y*y+z*z))\n",
        "\n",
        "def At(t):\n",
        "  return A0(t,0,0,0)/A0(0,0,0,0)"
      ],
      "metadata": {
        "id": "NGdh8lMnqbG5"
      },
      "execution_count": 6,
      "outputs": []
    },
    {
      "cell_type": "code",
      "source": [
        "z0=-zb\n",
        "z1=zb\n",
        "dz=(z1-z0)/(nz-1)\n",
        "zGrid=np.linspace(z0,z1,nz)\n",
        "dk=2*np.pi/(nk*dz)\n",
        "kMax=dk*(nk-1)/2\n",
        "kGrid=dk*np.linspace(-(nk-1)/2,(nk-1)/2,nk)\n",
        "kFFT=2*np.pi*np.fft.fftfreq(nk,dz)\n",
        "kFFTT=kFFT.reshape(-1,1)\n",
        "nPad=(nk-nz)//2\n",
        "\n",
        "psiOut=np.zeros(2*4*nz*nz*nz,dtype=np.float32)\n",
        "\n",
        "X,Y,Z=np.meshgrid(zGrid,zGrid,zGrid,indexing='ij')\n",
        "K1,K2,K3=np.meshgrid(kFFT,kFFT,kFFT,indexing='ij')\n",
        "\n",
        "AzGrid=A0(0,X,Y,Z)\n",
        "AzGrid=np.where(np.abs(AzGrid)<chop,0.+0.j,AzGrid)\n",
        "\n",
        "xA=np.zeros((nz,nz,nz),dtype=np.complex64)\n",
        "inho=xA\n",
        "kA1=np.zeros((nk,nk,nk),dtype=np.complex64)\n",
        "kA2=kA1\n",
        "\n",
        "xDer=xA\n",
        "yDer=xA\n",
        "zDer=xA"
      ],
      "metadata": {
        "id": "b8Z9YS1BquFR"
      },
      "execution_count": 7,
      "outputs": []
    },
    {
      "cell_type": "code",
      "source": [
        "def fDer(phi):\n",
        "  global kA1, kA2, xDer, yDer, zDer\n",
        "\n",
        "  kA1=np.pad(phi,nPad)\n",
        "  kA1=np.fft.ifftn(kA1)\n",
        "\n",
        "  kA2=-1j*K1*kA1\n",
        "  kA2=np.fft.fftn(kA2)\n",
        "  xDer=kA2[nPad:-nPad,nPad:-nPad,nPad:-nPad]\n",
        "  xDer=np.where(np.abs(xDer)<chop,0.+0.j,xDer)\n",
        "\n",
        "  kA2=-1j*K2*kA1\n",
        "  kA2=np.fft.fftn(kA2)\n",
        "  yDer=kA2[nPad:-nPad,nPad:-nPad,nPad:-nPad]\n",
        "  yDer=np.where(np.abs(yDer)<chop,0.+0.j,yDer)\n",
        "\n",
        "  kA2=-1j*K3*kA1\n",
        "  kA2=np.fft.fftn(kA2)\n",
        "  zDer=kA2[nPad:-nPad,nPad:-nPad,nPad:-nPad]\n",
        "  zDer=np.where(np.abs(zDer)<chop,0.+0.j,zDer)"
      ],
      "metadata": {
        "id": "-48Qgmh1rOk6"
      },
      "execution_count": 8,
      "outputs": []
    },
    {
      "cell_type": "code",
      "source": [
        "def makeDer(P1,P2,P3,spin,sign):\n",
        "  global xA, kA1, kA2, xDer, yDer, zDer\n",
        "  P0=np.sqrt(1+P1*P1+P2*P2+P3*P3)\n",
        "\n",
        "  if sign==1:\n",
        "    uOut=u4D(P1,P2,P3,spin)\n",
        "  elif sign==-1:\n",
        "    uOut=v4D(P1,P2,P3,spin)\n",
        "\n",
        "  inho=A0(0,X,Y,Z)*np.exp(-1j*sign*(P1*X+P2*Y+P3*Z))\n",
        "  inho=np.where(np.abs(xA)<chop,0.+0.j,inho)\n",
        "\n",
        "  def dPsi(mt,y,args):\n",
        "    global xA, kA1, kA2, xDer, yDer, zDer\n",
        "    t=-mt\n",
        "\n",
        "    dy=[np.zeros((nz,nz,nz),dtype=np.complex64) for i in range(4)]\n",
        "\n",
        "    for a in range(4):\n",
        "      offRe=a*(nz**3)\n",
        "      offIm=(4+a)*(nz**3)\n",
        "      xA=(y[offRe:offRe+nz**3]+1j*y[offIm:offIm+nz**3]).reshape((nz,nz,nz))\n",
        "      fDer(xA)\n",
        "      for b in range(4):\n",
        "        dy[b]=dy[b]+1j*(a1[b,a]*xDer+a2[b,a]*yDer+a3[b,a]*zDer-g0[b,a]*xA)\n",
        "        if a==b:\n",
        "          dy[b]=dy[b]-1j*At(t)*(AzGrid*xA+uOut[a]*np.exp(-1j*sign*P0*t)*inho)\n",
        "      dy[b]=np.where(np.abs(dy[b])<chop,0.+0.j,dy[b])\n",
        "\n",
        "    return np.array([[np.real(dy[a]) for a in range(4)],[np.imag(dy[a]) for a in range(4)]]).ravel()\n",
        "\n",
        "  return dPsi"
      ],
      "metadata": {
        "id": "42iZBvybsv--"
      },
      "execution_count": 16,
      "outputs": []
    },
    {
      "cell_type": "code",
      "source": [],
      "metadata": {
        "id": "4xDHbfoK13ft"
      },
      "execution_count": 26,
      "outputs": []
    },
    {
      "cell_type": "markdown",
      "source": [
        "# Computation"
      ],
      "metadata": {
        "id": "rx52-tmRSLnl"
      }
    },
    {
      "cell_type": "code",
      "source": [
        "UdPsi=makeDer(p1,p2,p3,1,1)"
      ],
      "metadata": {
        "id": "uPqrJGn7UItf"
      },
      "execution_count": 17,
      "outputs": []
    },
    {
      "cell_type": "code",
      "source": [
        "test=UdPsi(0,psiOut,0)"
      ],
      "metadata": {
        "id": "267w-QpRT8QK"
      },
      "execution_count": 18,
      "outputs": []
    },
    {
      "cell_type": "code",
      "source": [
        "test.shape"
      ],
      "metadata": {
        "colab": {
          "base_uri": "https://localhost:8080/"
        },
        "id": "X90kDiClVDnh",
        "outputId": "d58f6d4f-0f6f-4733-8b84-aaf29f604bc2"
      },
      "execution_count": 19,
      "outputs": [
        {
          "output_type": "execute_result",
          "data": {
            "text/plain": [
              "(64964808,)"
            ]
          },
          "metadata": {},
          "execution_count": 19
        }
      ]
    },
    {
      "cell_type": "code",
      "source": [
        "2*4*nz*nz*nz"
      ],
      "metadata": {
        "colab": {
          "base_uri": "https://localhost:8080/"
        },
        "id": "krqYJeHoZ4a-",
        "outputId": "c390faf1-2fb0-43d4-ae6d-4bc70444b249"
      },
      "execution_count": 105,
      "outputs": [
        {
          "output_type": "execute_result",
          "data": {
            "text/plain": [
              "64964808"
            ]
          },
          "metadata": {},
          "execution_count": 105
        }
      ]
    },
    {
      "cell_type": "code",
      "source": [
        "solver = Dopri5()\n",
        "controller = PIDController(rtol=1e-5, atol=1e-10)\n",
        "\n",
        "UdPsi=makeDer(p1,p2,p3,1,1)\n",
        "term = ODETerm(UdPsi)\n",
        "solutionU = diffeqsolve(term,solver,t0=tin,t1=tout,dt0=1e-3,y0=psiOut,\n",
        "  stepsize_controller=controller,saveat=SaveAt(t1=True)\n",
        ")"
      ],
      "metadata": {
        "colab": {
          "base_uri": "https://localhost:8080/",
          "height": 367
        },
        "id": "1RMa6h27SPYJ",
        "outputId": "d1da69d9-cccf-41e3-a28c-4bb143b240e4"
      },
      "execution_count": 21,
      "outputs": [
        {
          "output_type": "error",
          "ename": "XlaRuntimeError",
          "evalue": "RESOURCE_EXHAUSTED: Out of memory while trying to allocate 9044783600 bytes.",
          "traceback": [
            "\u001b[0;31m---------------------------------------------------------------------------\u001b[0m",
            "\u001b[0;31mXlaRuntimeError\u001b[0m                           Traceback (most recent call last)",
            "\u001b[0;32m/tmp/ipython-input-2537700642.py\u001b[0m in \u001b[0;36m<cell line: 0>\u001b[0;34m()\u001b[0m\n\u001b[1;32m      4\u001b[0m \u001b[0mUdPsi\u001b[0m\u001b[0;34m=\u001b[0m\u001b[0mmakeDer\u001b[0m\u001b[0;34m(\u001b[0m\u001b[0mp1\u001b[0m\u001b[0;34m,\u001b[0m\u001b[0mp2\u001b[0m\u001b[0;34m,\u001b[0m\u001b[0mp3\u001b[0m\u001b[0;34m,\u001b[0m\u001b[0;36m1\u001b[0m\u001b[0;34m,\u001b[0m\u001b[0;36m1\u001b[0m\u001b[0;34m)\u001b[0m\u001b[0;34m\u001b[0m\u001b[0;34m\u001b[0m\u001b[0m\n\u001b[1;32m      5\u001b[0m \u001b[0mterm\u001b[0m \u001b[0;34m=\u001b[0m \u001b[0mODETerm\u001b[0m\u001b[0;34m(\u001b[0m\u001b[0mUdPsi\u001b[0m\u001b[0;34m)\u001b[0m\u001b[0;34m\u001b[0m\u001b[0;34m\u001b[0m\u001b[0m\n\u001b[0;32m----> 6\u001b[0;31m solutionU = diffeqsolve(term,solver,t0=tin,t1=tout,dt0=1e-3,y0=psiOut,\n\u001b[0m\u001b[1;32m      7\u001b[0m   \u001b[0mstepsize_controller\u001b[0m\u001b[0;34m=\u001b[0m\u001b[0mcontroller\u001b[0m\u001b[0;34m,\u001b[0m\u001b[0msaveat\u001b[0m\u001b[0;34m=\u001b[0m\u001b[0mSaveAt\u001b[0m\u001b[0;34m(\u001b[0m\u001b[0mt1\u001b[0m\u001b[0;34m=\u001b[0m\u001b[0;32mTrue\u001b[0m\u001b[0;34m)\u001b[0m\u001b[0;34m\u001b[0m\u001b[0;34m\u001b[0m\u001b[0m\n\u001b[1;32m      8\u001b[0m )\n",
            "    \u001b[0;31m[... skipping hidden 7 frame]\u001b[0m\n",
            "\u001b[0;32m/usr/local/lib/python3.12/dist-packages/jax/_src/interpreters/pxla.py\u001b[0m in \u001b[0;36m__call__\u001b[0;34m(self, *args)\u001b[0m\n\u001b[1;32m   1286\u001b[0m           or self.has_host_callbacks):\n\u001b[1;32m   1287\u001b[0m         \u001b[0minput_bufs\u001b[0m \u001b[0;34m=\u001b[0m \u001b[0mself\u001b[0m\u001b[0;34m.\u001b[0m\u001b[0m_add_tokens_to_inputs\u001b[0m\u001b[0;34m(\u001b[0m\u001b[0minput_bufs\u001b[0m\u001b[0;34m)\u001b[0m\u001b[0;34m\u001b[0m\u001b[0;34m\u001b[0m\u001b[0m\n\u001b[0;32m-> 1288\u001b[0;31m         results = self.xla_executable.execute_sharded(\n\u001b[0m\u001b[1;32m   1289\u001b[0m             \u001b[0minput_bufs\u001b[0m\u001b[0;34m,\u001b[0m \u001b[0mwith_tokens\u001b[0m\u001b[0;34m=\u001b[0m\u001b[0;32mTrue\u001b[0m\u001b[0;34m\u001b[0m\u001b[0;34m\u001b[0m\u001b[0m\n\u001b[1;32m   1290\u001b[0m         )\n",
            "\u001b[0;31mXlaRuntimeError\u001b[0m: RESOURCE_EXHAUSTED: Out of memory while trying to allocate 9044783600 bytes."
          ]
        }
      ]
    },
    {
      "cell_type": "code",
      "source": [
        "p1"
      ],
      "metadata": {
        "colab": {
          "base_uri": "https://localhost:8080/"
        },
        "id": "Q0_Hr9L15BQd",
        "outputId": "53a7b695-c78e-442a-f484-c5f0acaa42b8"
      },
      "execution_count": 20,
      "outputs": [
        {
          "output_type": "execute_result",
          "data": {
            "text/plain": [
              "-0.35"
            ]
          },
          "metadata": {},
          "execution_count": 20
        }
      ]
    },
    {
      "cell_type": "markdown",
      "source": [
        "# Checking definitions"
      ],
      "metadata": {
        "id": "xpocUdR-EsiZ"
      }
    },
    {
      "cell_type": "code",
      "source": [
        "for i in range(4):\n",
        "  for j in range(4):\n",
        "    print(np.abs(g[i]@g[j]+g[j]@g[i]-2*id*eta[i,j]).ravel())"
      ],
      "metadata": {
        "id": "8XB5Kb8VEweV"
      },
      "execution_count": null,
      "outputs": []
    },
    {
      "cell_type": "code",
      "source": [
        "for vec1 in [u4D(p1,p2,p3,1),u4D(p1,p2,p3,2),v4D(pp1,pp2,pp3,1),v4D(pp1,pp2,pp3,2)]:\n",
        "  for vec2 in [u4D(p1,p2,p3,1),u4D(p1,p2,p3,2),v4D(pp1,pp2,pp3,1),v4D(pp1,pp2,pp3,2)]:\n",
        "    print(np.abs(np.dot(vec1,vec2)))"
      ],
      "metadata": {
        "id": "q3-axhDQE4sn"
      },
      "execution_count": null,
      "outputs": []
    },
    {
      "cell_type": "code",
      "source": [
        "np.max(np.abs((p0*g0+p1*g1+p2*g2+p3*g3-id)@u4D(p1,p2,p3,2)))"
      ],
      "metadata": {
        "colab": {
          "base_uri": "https://localhost:8080/"
        },
        "id": "4fMhgkvRn0ae",
        "outputId": "b4f91dcb-988c-4163-ba07-ed867a5d266c"
      },
      "execution_count": null,
      "outputs": [
        {
          "output_type": "execute_result",
          "data": {
            "text/plain": [
              "Array(5.9604645e-08, dtype=float32)"
            ]
          },
          "metadata": {},
          "execution_count": 8
        }
      ]
    },
    {
      "cell_type": "code",
      "source": [
        "np.max(np.abs((pp0*g0+pp1*g1+pp2*g2+pp3*g3+id)@v4D(pp1,pp2,pp3,1)))"
      ],
      "metadata": {
        "colab": {
          "base_uri": "https://localhost:8080/"
        },
        "id": "u-C1AMHJp_v-",
        "outputId": "f5b0cc6f-c33f-4021-9520-73a3b93d5a15"
      },
      "execution_count": null,
      "outputs": [
        {
          "output_type": "execute_result",
          "data": {
            "text/plain": [
              "Array(5.9604645e-08, dtype=float32)"
            ]
          },
          "metadata": {},
          "execution_count": 9
        }
      ]
    }
  ]
}