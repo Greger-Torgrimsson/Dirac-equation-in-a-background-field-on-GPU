{
  "nbformat": 4,
  "nbformat_minor": 0,
  "metadata": {
    "colab": {
      "provenance": [],
      "gpuType": "T4",
      "collapsed_sections": [
        "1eq4bguJnd7F"
      ],
      "cell_execution_strategy": "setup"
    },
    "kernelspec": {
      "name": "python3",
      "display_name": "Python 3"
    },
    "language_info": {
      "name": "python"
    },
    "accelerator": "GPU"
  },
  "cells": [
    {
      "cell_type": "markdown",
      "source": [
        "This code computes the probability of Schwinger pair production using the method in:\n",
        "\n",
        "*Momentum correlation in pair production by spacetime dependent fields from scattered wave functions*\n",
        "\n",
        "arXiv:2509.17770\n",
        "\n",
        "G. Torgrimsson"
      ],
      "metadata": {
        "id": "MO7eMdZl3t2v"
      }
    },
    {
      "cell_type": "markdown",
      "source": [
        "# Import"
      ],
      "metadata": {
        "id": "ajOqfK32oxWe"
      }
    },
    {
      "cell_type": "markdown",
      "source": [
        "diffrax contains the ODE solver for solving the Dirac equation on T4 GPU"
      ],
      "metadata": {
        "id": "PEfy2zXYr2gJ"
      }
    },
    {
      "cell_type": "code",
      "source": [
        "%%capture output\n",
        "%pip install diffrax"
      ],
      "metadata": {
        "id": "09ZKuNlzpb-t"
      },
      "execution_count": null,
      "outputs": []
    },
    {
      "cell_type": "code",
      "source": [
        "import jax.numpy as np\n",
        "from diffrax import diffeqsolve, ODETerm, Dopri5, SaveAt, PIDController\n",
        "import matplotlib.pyplot as plt\n",
        "from scipy.integrate import simpson\n",
        "from scipy.interpolate import make_interp_spline\n",
        "from tqdm import tqdm"
      ],
      "metadata": {
        "id": "s85EH_TZXaMx"
      },
      "execution_count": null,
      "outputs": []
    },
    {
      "cell_type": "markdown",
      "source": [
        "# Define field and discretization"
      ],
      "metadata": {
        "id": "DN2FG9a_n1EV"
      }
    },
    {
      "cell_type": "markdown",
      "source": [
        "We assume a gauge field with ${\\bf A}=0$ and $A_0(t,x,y)$. The field and the scattered wave function should be contained in $-z_b<x,y<z_b$. $n_z$ is the number of points in the $x$ and $y$ directions. $n_k$ ($\\geq n_z$) is the number of points in the Fourier space. Both $n_z$ and $n_k$ should be odd.   "
      ],
      "metadata": {
        "id": "Aeb_JyQL4eG_"
      }
    },
    {
      "cell_type": "code",
      "source": [
        "gamma=1\n",
        "E0=1/3\n",
        "omega=gamma*E0\n",
        "kappa=gamma*E0\n",
        "\n",
        "zb=22\n",
        "nz=201\n",
        "nk=401\n",
        "\n",
        "tin=-10\n",
        "tout=10\n",
        "\n",
        "chop=1e-7\n",
        "\n",
        "def A0(t,x,y):\n",
        "  return (E0/kappa)*np.exp(-(omega*t)**2-kappa*kappa*(x**2+y**2))\n",
        "\n",
        "def At(t):\n",
        "  return A0(t,0,0)/A0(0,0,0)"
      ],
      "metadata": {
        "id": "ae_8PAnuXkc2"
      },
      "execution_count": null,
      "outputs": []
    },
    {
      "cell_type": "markdown",
      "source": [
        "# Definitions"
      ],
      "metadata": {
        "id": "1eq4bguJnd7F"
      }
    },
    {
      "cell_type": "markdown",
      "source": [
        "2D spinors:"
      ],
      "metadata": {
        "id": "s-crDNSu6NDN"
      }
    },
    {
      "cell_type": "code",
      "execution_count": null,
      "metadata": {
        "id": "wWj2xWaNSvxM"
      },
      "outputs": [],
      "source": [
        "def u1(P1,P2):\n",
        "  P0=np.sqrt(1+P1*P1+P2*P2)\n",
        "  return 0.j+(1+P0)/np.sqrt(2*P0*(1+P0))\n",
        "\n",
        "def u2(P1,P2):\n",
        "  P0=np.sqrt(1+P1*P1+P2*P2)\n",
        "  return (-P1-1j*P2)/np.sqrt(2*P0*(1+P0))\n",
        "\n",
        "def v1(P1,P2):\n",
        "  P0=np.sqrt(1+P1*P1+P2*P2)\n",
        "  return np.where(P0==1.,0.+0.j,(-P1+1j*P2)*np.sqrt((P0-1)/(2*P0*(P1*P1+P2*P2))))\n",
        "\n",
        "def v2(P1,P2):\n",
        "  P0=np.sqrt(1+P1*P1+P2*P2)\n",
        "  return np.where(P0==1.,1.+0.j,0.j+np.sqrt((P1*P1+P2*P2)/(2*P0*(P0-1))))\n",
        "\n",
        "def u2D(P1,P2):\n",
        "  return [u1(P1,P2),u2(P1,P2)]\n",
        "\n",
        "def v2D(P1,P2):\n",
        "  return [v1(P1,P2),v2(P1,P2)]"
      ]
    },
    {
      "cell_type": "markdown",
      "source": [
        "Grid definitions:"
      ],
      "metadata": {
        "id": "d5Hjjd7s6Q2f"
      }
    },
    {
      "cell_type": "code",
      "source": [
        "z0=-zb\n",
        "z1=zb\n",
        "dz=(z1-z0)/(nz-1)\n",
        "zGrid=np.linspace(z0,z1,nz)\n",
        "dk=2*np.pi/(nk*dz)\n",
        "kMax=dk*(nk-1)/2\n",
        "kGrid=dk*np.linspace(-(nk-1)/2,(nk-1)/2,nk)\n",
        "kFFT=2*np.pi*np.fft.fftfreq(nk,dz)\n",
        "kFFTT=kFFT.reshape(-1,1)\n",
        "nPad=(nk-nz)//2\n",
        "\n",
        "psiOut=np.zeros(2*2*nz*nz,dtype=np.float32)\n",
        "\n",
        "X,Y=np.meshgrid(zGrid,zGrid,indexing='ij')\n",
        "K1,K2=np.meshgrid(kFFT,kFFT,indexing='ij')\n",
        "\n",
        "AzGrid=A0(0,X,Y)\n",
        "AzGrid=np.where(np.abs(AzGrid)<chop,0.+0.j,AzGrid)"
      ],
      "metadata": {
        "id": "8Xh2gWoxYEfs"
      },
      "execution_count": null,
      "outputs": []
    },
    {
      "cell_type": "markdown",
      "source": [
        "The spatial derivatives, $\\partial_x$ and $\\partial_y$, are calculated by Fourier transforming, multiplying by $k_1$ or $k_2$, and then Fourier transforming back to $x$ and $y$.  "
      ],
      "metadata": {
        "id": "ifuKeDWb6T6p"
      }
    },
    {
      "cell_type": "code",
      "source": [
        "def fDer(phi):\n",
        "  global xDer, yDer\n",
        "\n",
        "  der=np.pad(phi,nPad)\n",
        "  der=np.fft.ifft2(der)\n",
        "\n",
        "  xDer=-1j*kFFTT*der\n",
        "  xDer=np.fft.fft2(xDer)\n",
        "  xDer=xDer[nPad:-nPad,nPad:-nPad]\n",
        "  xDer=np.where(np.abs(xDer)<chop,0.+0.j,xDer)\n",
        "\n",
        "  yDer=-1j*kFFT*der\n",
        "  yDer=np.fft.fft2(yDer)\n",
        "  yDer=yDer[nPad:-nPad,nPad:-nPad]\n",
        "  yDer=np.where(np.abs(yDer)<chop,0.+0.j,yDer)"
      ],
      "metadata": {
        "id": "7CUzkQmWdPh0"
      },
      "execution_count": null,
      "outputs": []
    },
    {
      "cell_type": "markdown",
      "source": [
        "Constructing $d\\psi$ in the Dirac equation, $\\partial_t\\psi_\\text{scat.}=d\\psi$."
      ],
      "metadata": {
        "id": "zlNVAKHS7Smd"
      }
    },
    {
      "cell_type": "code",
      "source": [
        "def makeDer(P1,P2,sign):\n",
        "  P0=np.sqrt(1+P1*P1+P2*P2)\n",
        "\n",
        "  if sign==1:\n",
        "    uOut1,uOut2=u2D(P1,P2)\n",
        "  elif sign==-1:\n",
        "    uOut1,uOut2=v2D(P1,P2)\n",
        "\n",
        "  inho=A0(0,X,Y)*np.exp(-1j*sign*(P1*X+P2*Y))\n",
        "  inho=np.where(np.abs(inho)<chop,0.+0.j,inho)\n",
        "\n",
        "  def dPsi(mt,y,args):\n",
        "    t=-mt\n",
        "    real,imag=np.split(y,2)\n",
        "    phi=real+1j*imag\n",
        "    phiR=phi.reshape((2,nz,nz))\n",
        "    phi1=phiR[0]\n",
        "    phi2=phiR[1]\n",
        "    fDer(phi2)\n",
        "    e1=(xDer-1j*yDer+1j*phi1+1j*At(t)*(AzGrid*phi1+uOut1*np.exp(-1j*sign*P0*t)*inho))\n",
        "    fDer(phi1)\n",
        "    e2=(xDer+1j*yDer-1j*phi2+1j*At(t)*(AzGrid*phi2+uOut2*np.exp(-1j*sign*P0*t)*inho))\n",
        "    phiR=np.concatenate((e1,e2))\n",
        "    phiR=np.where(np.abs(phiR)<chop,0.+0.j,phiR)\n",
        "    phiR=np.concatenate([np.real(phiR),np.imag(phiR)])\n",
        "    return phiR.ravel()\n",
        "\n",
        "  return dPsi"
      ],
      "metadata": {
        "id": "zi69BHnNh9zf"
      },
      "execution_count": null,
      "outputs": []
    },
    {
      "cell_type": "code",
      "source": [
        "u1FFT=u1(K1,-K2)*np.exp(1j*np.sqrt(1+K1*K1+K2*K2)*tin)\n",
        "u2FFT=u2(K1,-K2)*np.exp(1j*np.sqrt(1+K1*K1+K2*K2)*tin)\n",
        "v1FFT=v1(-K1,K2)*np.exp(-1j*np.sqrt(1+K1*K1+K2*K2)*tin)\n",
        "v2FFT=v2(-K1,K2)*np.exp(-1j*np.sqrt(1+K1*K1+K2*K2)*tin)"
      ],
      "metadata": {
        "id": "7hwHyIB4gucA"
      },
      "execution_count": null,
      "outputs": []
    },
    {
      "cell_type": "markdown",
      "source": [
        "Project $\\psi_\\text{scat.}=\\Delta U$ and $\\psi_\\text{scat.}=\\Delta V$ onto in states: $(U_{\\rm in}|\\Delta U)$, $(V_{\\rm in}|\\Delta U)$, $(U_{\\rm in}|\\Delta V)$ and $(V_{\\rm in}|\\Delta V)$."
      ],
      "metadata": {
        "id": "Td4ZIxcD7wd3"
      }
    },
    {
      "cell_type": "code",
      "source": [
        "def projectU():\n",
        "  global UU\n",
        "  global VU\n",
        "\n",
        "  f1=np.pad(Usol[0],nPad)\n",
        "  f2=np.pad(Usol[1],nPad)\n",
        "  f1=np.fft.ifft2(f1)\n",
        "  f2=np.fft.ifft2(f2)\n",
        "\n",
        "  UU=u1FFT*f1+u2FFT*f2\n",
        "  UU=np.fft.fft2(UU)\n",
        "  UU=UU[nPad:-nPad,nPad:-nPad]\n",
        "\n",
        "  VU=v1FFT*f1+v2FFT*f2\n",
        "  VU=np.fft.fft2(VU)\n",
        "  VU=VU[nPad:-nPad,nPad:-nPad]\n",
        "\n",
        "def projectV():\n",
        "  global UV\n",
        "  global VV\n",
        "\n",
        "  f1=np.pad(Vsol[0],nPad)\n",
        "  f2=np.pad(Vsol[1],nPad)\n",
        "  f1=np.fft.ifft2(f1)\n",
        "  f2=np.fft.ifft2(f2)\n",
        "\n",
        "  UV=u1FFT*f1+u2FFT*f2\n",
        "  UV=np.fft.fft2(UV)\n",
        "  UV=UV[nPad:-nPad,nPad:-nPad]\n",
        "\n",
        "  VV=v1FFT*f1+v2FFT*f2\n",
        "  VV=np.fft.fft2(VV)\n",
        "  VV=VV[nPad:-nPad,nPad:-nPad]"
      ],
      "metadata": {
        "id": "ODJJauyJgCw_"
      },
      "execution_count": null,
      "outputs": []
    },
    {
      "cell_type": "markdown",
      "source": [
        "Solve the Dirac equation, project onto in states, and then perform the integrals in\n",
        "\n",
        "\\begin{equation}\n",
        "N_{1\\text{vers1}}=\\big|{}_m(U_\\infty|\\Delta V)_n+{}_m(\\Delta U|U_\\infty)(U_\\infty|\\Delta V)_n\\big|_{t=t_{\\rm in}}^2\n",
        "\\end{equation}\n",
        "\\begin{equation}\n",
        "N_{1\\text{vers2}}=\\big|{}_m(\\Delta U|V_\\infty)_n+{}_m(\\Delta U|V_\\infty)(V_\\infty|\\Delta V)_n\\big|_{t=t_{\\rm in}}^2\n",
        "\\end{equation}\n",
        "\n",
        "We should find $N_{1\\text{vers1}}=N_{1\\text{vers2}}$ to within the numerical precision."
      ],
      "metadata": {
        "id": "FNXyotym8qmF"
      }
    },
    {
      "cell_type": "code",
      "source": [
        "def doAll(P1,P2,PP1,PP2):\n",
        "  global Usol, Vsol, UU, VU, UV, VV, UUUV, UVdelta, UVVV, VUdelta, N1vers1, N1vers2\n",
        "\n",
        "  solver = Dopri5()\n",
        "  controller = PIDController(rtol=1e-5, atol=1e-10)\n",
        "\n",
        "  UdPsi=makeDer(P1,P2,1)\n",
        "  term = ODETerm(UdPsi)\n",
        "  solutionU = diffeqsolve(term,solver,t0=tin,t1=tout,dt0=1e-3,y0=psiOut,\n",
        "    stepsize_controller=controller,saveat=SaveAt(t1=True)\n",
        "  )\n",
        "\n",
        "  Usolr,Usoli=np.split(solutionU.ys[0],2)\n",
        "  Usol=Usolr+1j*Usoli\n",
        "  Usol=Usol.reshape((2,nz,nz))\n",
        "\n",
        "  VdPsi=makeDer(PP1,PP2,-1)\n",
        "  term = ODETerm(VdPsi)\n",
        "  solutionV = diffeqsolve(term,solver,t0=tin,t1=tout,dt0=1e-3,y0=psiOut,\n",
        "    stepsize_controller=controller,saveat=SaveAt(t1=True)\n",
        "  )\n",
        "\n",
        "  Vsolr,Vsoli=np.split(solutionV.ys[0],2)\n",
        "  Vsol=Vsolr+1j*Vsoli\n",
        "  Vsol=Vsol.reshape((2,nz,nz))\n",
        "\n",
        "  projectU()\n",
        "  projectV()\n",
        "\n",
        "  UUUVgrand=np.conjugate(UU)*UV\n",
        "  UUUV=simpson(UUUVgrand,zGrid,axis=1)\n",
        "  UUUV=simpson(UUUV,zGrid)\n",
        "\n",
        "  UVdeltaGrand=np.exp(1j*(P1*X+P2*Y))*UV\n",
        "  UVdelta=simpson(UVdeltaGrand,zGrid,axis=1)\n",
        "  UVdelta=simpson(UVdelta,zGrid)\n",
        "\n",
        "  UVVVgrand=np.conjugate(VU)*VV\n",
        "  UVVV=simpson(UVVVgrand,zGrid,axis=1)\n",
        "  UVVV=simpson(UVVV,zGrid)\n",
        "\n",
        "  VUdeltaGrand=np.exp(1j*(PP1*X+PP2*Y))*np.conjugate(VU)\n",
        "  VUdelta=simpson(VUdeltaGrand,zGrid,axis=1)\n",
        "  VUdelta=simpson(VUdelta,zGrid)\n",
        "\n",
        "  N1vers1=np.abs(UVdelta+UUUV)**2\n",
        "  N1vers2=np.abs(VUdelta+UVVV)**2"
      ],
      "metadata": {
        "id": "9Enf_ugDAZSQ"
      },
      "execution_count": null,
      "outputs": []
    },
    {
      "cell_type": "markdown",
      "source": [
        "# Calculation"
      ],
      "metadata": {
        "id": "e12Ft8Lpnq1F"
      }
    },
    {
      "cell_type": "markdown",
      "source": [
        "Check that dz and dk are small enough, and that kMax is large enough."
      ],
      "metadata": {
        "id": "SOQ6vrOM91dz"
      }
    },
    {
      "cell_type": "code",
      "source": [
        "[kappa*dz,dk,kMax]"
      ],
      "metadata": {
        "colab": {
          "base_uri": "https://localhost:8080/"
        },
        "id": "68r_kyCsHRLr",
        "outputId": "e73d70d2-f708-4cfa-c1a5-3164b5531d49"
      },
      "execution_count": null,
      "outputs": [
        {
          "output_type": "execute_result",
          "data": {
            "text/plain": [
              "[0.07333333333333333, 0.07122177858965752, 14.244355717931503]"
            ]
          },
          "metadata": {},
          "execution_count": 13
        }
      ]
    },
    {
      "cell_type": "markdown",
      "source": [
        "Example:"
      ],
      "metadata": {
        "id": "_8q22QV-97n6"
      }
    },
    {
      "cell_type": "code",
      "source": [
        "p1=-.35; p2=0.; pp1=-p1; pp2=-p2"
      ],
      "metadata": {
        "id": "8-cS9P6FDu2v"
      },
      "execution_count": null,
      "outputs": []
    },
    {
      "cell_type": "code",
      "source": [
        "doAll(p1,p2,pp1,pp2)"
      ],
      "metadata": {
        "id": "7WsY0Rg5Dn5B"
      },
      "execution_count": null,
      "outputs": []
    },
    {
      "cell_type": "code",
      "source": [
        "[N1vers1,N1vers2,N1vers1/N1vers2-1]"
      ],
      "metadata": {
        "colab": {
          "base_uri": "https://localhost:8080/"
        },
        "id": "ldJse71dEOyj",
        "outputId": "6baf80cf-390a-4ad4-bde9-8163d5073699"
      },
      "execution_count": null,
      "outputs": [
        {
          "output_type": "execute_result",
          "data": {
            "text/plain": [
              "[Array(0.00219078, dtype=float32),\n",
              " Array(0.00219016, dtype=float32),\n",
              " Array(0.00028121, dtype=float32)]"
            ]
          },
          "metadata": {},
          "execution_count": 16
        }
      ]
    },
    {
      "cell_type": "markdown",
      "source": [
        "OK, N1vers1 and N1vers2 agree. Could also check that different values of tin gives the same result."
      ],
      "metadata": {
        "id": "t_5N0Hh2-AEB"
      }
    },
    {
      "cell_type": "markdown",
      "source": [
        "Make a 1D cross section in the 4D momentum space:"
      ],
      "metadata": {
        "id": "c4f_SA7T-Hzp"
      }
    },
    {
      "cell_type": "code",
      "source": [
        "pmin=0.; pmax=1.; dp=(pmax-pmin)/20.\n",
        "pList=np.arange(dp,pmax+dp,dp)"
      ],
      "metadata": {
        "id": "cPbx2oXsiEpu"
      },
      "execution_count": null,
      "outputs": []
    },
    {
      "cell_type": "code",
      "source": [
        "tab1=[0 for _ in pList]\n",
        "tab2=[0 for _ in pList]"
      ],
      "metadata": {
        "id": "Zlbx-K5FGuin"
      },
      "execution_count": null,
      "outputs": []
    },
    {
      "cell_type": "code",
      "source": [
        "ip=0\n",
        "for p in tqdm(pList):\n",
        "  p1=-p; p2=0; pp1=-p1; pp2=0\n",
        "  doAll(p1,p2,pp1,pp2)\n",
        "  tab1[ip]=N1vers1\n",
        "  tab2[ip]=N1vers2\n",
        "  ip=ip+1"
      ],
      "metadata": {
        "id": "tu2U0yZ3GxlU",
        "colab": {
          "base_uri": "https://localhost:8080/"
        },
        "outputId": "5d9d2b4e-e7a1-4d70-bd94-4dfbbcdbce26"
      },
      "execution_count": null,
      "outputs": [
        {
          "output_type": "stream",
          "name": "stderr",
          "text": [
            "100%|██████████| 20/20 [02:25<00:00,  7.26s/it]\n"
          ]
        }
      ]
    },
    {
      "cell_type": "markdown",
      "source": [
        "Much faster than a CPU code!"
      ],
      "metadata": {
        "id": "p5BPXS7G-TFw"
      }
    },
    {
      "cell_type": "code",
      "source": [
        "tab1=np.array(tab1)\n",
        "tab2=np.array(tab2)"
      ],
      "metadata": {
        "id": "ZO2xULfPJzp3"
      },
      "execution_count": null,
      "outputs": []
    },
    {
      "cell_type": "code",
      "source": [
        "tab1/tab2-1"
      ],
      "metadata": {
        "colab": {
          "base_uri": "https://localhost:8080/"
        },
        "id": "6LOWSmvtKCm1",
        "outputId": "0932045f-6a1d-4d4c-ca13-3471be79fa93"
      },
      "execution_count": null,
      "outputs": [
        {
          "output_type": "execute_result",
          "data": {
            "text/plain": [
              "Array([-0.00320643, -0.00170785, -0.00043529, -0.00018853, -0.00063884,\n",
              "       -0.00074017,  0.00024617,  0.00118303,  0.0001173 , -0.0017789 ,\n",
              "       -0.00117856,  0.00229037,  0.00298083, -0.00157654, -0.00254256,\n",
              "        0.00965905,  0.01774836,  0.00384831, -0.00652051,  0.01952314],      dtype=float32)"
            ]
          },
          "metadata": {},
          "execution_count": 21
        }
      ]
    },
    {
      "cell_type": "markdown",
      "source": [
        "Make a smooth interpolation function for plotting:"
      ],
      "metadata": {
        "id": "NwC63QXl-zD3"
      }
    },
    {
      "cell_type": "code",
      "source": [
        "inter1=make_interp_spline(pList,2*tab1/((2*np.pi)**5), k=3)\n",
        "inter2=make_interp_spline(pList,2*tab2/((2*np.pi)**5), k=3)\n",
        "\n",
        "pDense=np.linspace(pList.min(), pList.max(), 100)\n",
        "dense1=inter1(pDense)\n",
        "dense2=inter2(pDense)"
      ],
      "metadata": {
        "id": "MsupD39NJy8F"
      },
      "execution_count": null,
      "outputs": []
    },
    {
      "cell_type": "code",
      "source": [
        "plt.plot(pDense,dense1,label='N1vers1')\n",
        "plt.plot(pDense,dense2,linestyle=\"--\",label='N1vers2')\n",
        "plt.legend()\n",
        "plt.show()"
      ],
      "metadata": {
        "colab": {
          "base_uri": "https://localhost:8080/",
          "height": 445
        },
        "id": "UyaZJ5WYIrCA",
        "outputId": "277801ed-ea7e-44e3-fd04-747bf8a1d669"
      },
      "execution_count": null,
      "outputs": [
        {
          "output_type": "display_data",
          "data": {
            "text/plain": [
              "<Figure size 640x480 with 1 Axes>"
            ],
            "image/png": "[encoded data removed]"
          },
          "metadata": {}
        }
      ]
    },
    {
      "cell_type": "code",
      "source": [],
      "metadata": {
        "id": "6cjd0w9kLY_M"
      },
      "execution_count": null,
      "outputs": []
    }
  ]
}